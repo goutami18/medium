{
  "nbformat": 4,
  "nbformat_minor": 0,
  "metadata": {
    "colab": {
      "provenance": []
    },
    "kernelspec": {
      "name": "python3",
      "display_name": "Python 3"
    },
    "language_info": {
      "name": "python"
    }
  },
  "cells": [
    {
      "cell_type": "markdown",
      "source": [
        "ref: https://www.tensorflow.org/guide/tensor"
      ],
      "metadata": {
        "id": "NeTdWTCIStBO"
      }
    },
    {
      "cell_type": "code",
      "execution_count": 1,
      "metadata": {
        "id": "u55TSlFIsBuD"
      },
      "outputs": [],
      "source": [
        "import numpy as np\n",
        "import tensorflow as tf\n",
        "from tensorflow import keras\n",
        "import matplotlib.pyplot as plt"
      ]
    },
    {
      "cell_type": "markdown",
      "source": [
        "### **Tensors of different Ranks**"
      ],
      "metadata": {
        "id": "BaOAKJuKxI6h"
      }
    },
    {
      "cell_type": "code",
      "source": [
        "rank_0 = tf.constant(4)\n",
        "print(rank_0)"
      ],
      "metadata": {
        "colab": {
          "base_uri": "https://localhost:8080/"
        },
        "id": "oylqSentwQQw",
        "outputId": "559000f1-c1b0-4585-dba4-4b8460132454"
      },
      "execution_count": 2,
      "outputs": [
        {
          "output_type": "stream",
          "name": "stdout",
          "text": [
            "tf.Tensor(4, shape=(), dtype=int32)\n"
          ]
        }
      ]
    },
    {
      "cell_type": "code",
      "source": [
        "rank_1 = tf.constant([1,2])\n",
        "print(rank_1)"
      ],
      "metadata": {
        "colab": {
          "base_uri": "https://localhost:8080/"
        },
        "id": "YOKjdO8TwbzU",
        "outputId": "e7370568-8cf4-43af-cdef-8ed430bf3e02"
      },
      "execution_count": 3,
      "outputs": [
        {
          "output_type": "stream",
          "name": "stdout",
          "text": [
            "tf.Tensor([1 2], shape=(2,), dtype=int32)\n"
          ]
        }
      ]
    },
    {
      "cell_type": "code",
      "source": [
        "rank_2 = tf.constant([[1,2],[3,4],[5,6]])\n",
        "print(rank_2)"
      ],
      "metadata": {
        "colab": {
          "base_uri": "https://localhost:8080/"
        },
        "id": "0vF32Nurwf3t",
        "outputId": "0a647aa5-7c71-42aa-99b5-311aa3c332c3"
      },
      "execution_count": 4,
      "outputs": [
        {
          "output_type": "stream",
          "name": "stdout",
          "text": [
            "tf.Tensor(\n",
            "[[1 2]\n",
            " [3 4]\n",
            " [5 6]], shape=(3, 2), dtype=int32)\n"
          ]
        }
      ]
    },
    {
      "cell_type": "code",
      "source": [
        "rank_3 = tf.constant([\n",
        "  [[1, 2, 3, 4],\n",
        "   [5, 6, 7, 8],\n",
        "   [9, 10, 11, 12]],\n",
        "  [[13, 14, 15, 16],\n",
        "   [17, 18, 19, 20],\n",
        "   [21, 22, 23, 24]]])\n",
        "print(rank_3)"
      ],
      "metadata": {
        "colab": {
          "base_uri": "https://localhost:8080/"
        },
        "id": "_UPjiRShxByz",
        "outputId": "8089e0d4-cb86-4a08-b631-24ee9a3b7e24"
      },
      "execution_count": 5,
      "outputs": [
        {
          "output_type": "stream",
          "name": "stdout",
          "text": [
            "tf.Tensor(\n",
            "[[[ 1  2  3  4]\n",
            "  [ 5  6  7  8]\n",
            "  [ 9 10 11 12]]\n",
            "\n",
            " [[13 14 15 16]\n",
            "  [17 18 19 20]\n",
            "  [21 22 23 24]]], shape=(2, 3, 4), dtype=int32)\n"
          ]
        }
      ]
    },
    {
      "cell_type": "markdown",
      "source": [
        "### **Tensors of Different Data types**"
      ],
      "metadata": {
        "id": "uScoozaYxU7A"
      }
    },
    {
      "cell_type": "code",
      "source": [
        "#2D tensor of integers\n",
        "int_tensor = tf.constant([[1, 2], [3, 4]])\n",
        "print(int_tensor)\n",
        "\n",
        "#2D tensor of floats\n",
        "float_tensor = tf.constant([[1.0, 2.0], [3.0, 4.0]])\n",
        "print(float_tensor)\n",
        "\n",
        "#2D tensor of booleans\n",
        "bool_tensor = tf.constant([[True, False], [False, True]])\n",
        "print(bool_tensor)\n",
        "\n",
        "#2D tensor of strings\n",
        "str_tensor = tf.constant([['Hello', 'World'], ['Goodbye', 'World']])\n",
        "print(str_tensor)\n"
      ],
      "metadata": {
        "colab": {
          "base_uri": "https://localhost:8080/"
        },
        "id": "1b9BL-P0xb_7",
        "outputId": "1a2c6b7d-9982-4706-eb28-5dc5d61991e8"
      },
      "execution_count": 6,
      "outputs": [
        {
          "output_type": "stream",
          "name": "stdout",
          "text": [
            "tf.Tensor(\n",
            "[[1 2]\n",
            " [3 4]], shape=(2, 2), dtype=int32)\n",
            "tf.Tensor(\n",
            "[[1. 2.]\n",
            " [3. 4.]], shape=(2, 2), dtype=float32)\n",
            "tf.Tensor(\n",
            "[[ True False]\n",
            " [False  True]], shape=(2, 2), dtype=bool)\n",
            "tf.Tensor(\n",
            "[[b'Hello' b'World']\n",
            " [b'Goodbye' b'World']], shape=(2, 2), dtype=string)\n"
          ]
        }
      ]
    },
    {
      "cell_type": "markdown",
      "source": [
        "### **Convert Tensor to Numpy array**"
      ],
      "metadata": {
        "id": "EPF4__V_Qaps"
      }
    },
    {
      "cell_type": "code",
      "source": [
        "np.array(rank_3)"
      ],
      "metadata": {
        "colab": {
          "base_uri": "https://localhost:8080/"
        },
        "id": "ggLH8JaLQaNn",
        "outputId": "2096d597-6b87-4bad-be1b-b9e1eb3429f1"
      },
      "execution_count": 7,
      "outputs": [
        {
          "output_type": "execute_result",
          "data": {
            "text/plain": [
              "array([[[ 1,  2,  3,  4],\n",
              "        [ 5,  6,  7,  8],\n",
              "        [ 9, 10, 11, 12]],\n",
              "\n",
              "       [[13, 14, 15, 16],\n",
              "        [17, 18, 19, 20],\n",
              "        [21, 22, 23, 24]]], dtype=int32)"
            ]
          },
          "metadata": {},
          "execution_count": 7
        }
      ]
    },
    {
      "cell_type": "code",
      "source": [
        "rank_3.numpy()"
      ],
      "metadata": {
        "colab": {
          "base_uri": "https://localhost:8080/"
        },
        "id": "2ZHbrvQlQnto",
        "outputId": "17bd940e-b7a7-4d0e-ebae-fa6a2de3c66f"
      },
      "execution_count": 8,
      "outputs": [
        {
          "output_type": "execute_result",
          "data": {
            "text/plain": [
              "array([[[ 1,  2,  3,  4],\n",
              "        [ 5,  6,  7,  8],\n",
              "        [ 9, 10, 11, 12]],\n",
              "\n",
              "       [[13, 14, 15, 16],\n",
              "        [17, 18, 19, 20],\n",
              "        [21, 22, 23, 24]]], dtype=int32)"
            ]
          },
          "metadata": {},
          "execution_count": 8
        }
      ]
    },
    {
      "cell_type": "markdown",
      "source": [
        "### **Convert array to Tensor**"
      ],
      "metadata": {
        "id": "ekfnEz_8Q_Zm"
      }
    },
    {
      "cell_type": "code",
      "source": [
        "new_tf_=tf.convert_to_tensor([1,2,3])\n",
        "print(new_tf_)"
      ],
      "metadata": {
        "colab": {
          "base_uri": "https://localhost:8080/"
        },
        "id": "cg_LFzzrRDF0",
        "outputId": "828ecc12-88df-40b9-b064-00e6362ddd07"
      },
      "execution_count": 9,
      "outputs": [
        {
          "output_type": "stream",
          "name": "stdout",
          "text": [
            "tf.Tensor([1 2 3], shape=(3,), dtype=int32)\n"
          ]
        }
      ]
    },
    {
      "cell_type": "markdown",
      "source": [
        "### **Indexing**"
      ],
      "metadata": {
        "id": "3YRGpPbrplHD"
      }
    },
    {
      "cell_type": "code",
      "source": [
        "rank_1_ = tf.constant([0, 1, 1, 2, 3, 5, 8, 13, 21, 34])\n",
        "print(\"Everything:\", rank_1_[:].numpy())\n",
        "print(\"Before 4:\", rank_1_[:4].numpy())\n",
        "print(\"From 4 to the end:\", rank_1_[4:].numpy())\n",
        "print(\"From 2, before 7:\", rank_1_[2:7].numpy())\n",
        "print(\"Every other item:\", rank_1_[::2].numpy())\n",
        "print(\"Reversed:\", rank_1_[::-1].numpy())"
      ],
      "metadata": {
        "colab": {
          "base_uri": "https://localhost:8080/"
        },
        "id": "ocBxfVvsVFYw",
        "outputId": "3adb4dc1-18e4-4dbb-c357-93c7a8f492fc"
      },
      "execution_count": 10,
      "outputs": [
        {
          "output_type": "stream",
          "name": "stdout",
          "text": [
            "Everything: [ 0  1  1  2  3  5  8 13 21 34]\n",
            "Before 4: [0 1 1 2]\n",
            "From 4 to the end: [ 3  5  8 13 21 34]\n",
            "From 2, before 7: [1 2 3 5 8]\n",
            "Every other item: [ 0  1  3  8 21]\n",
            "Reversed: [34 21 13  8  5  3  2  1  1  0]\n"
          ]
        }
      ]
    },
    {
      "cell_type": "code",
      "source": [
        "#Multi-axis indexing\n",
        "print(\"Second row:\", rank_2[1, :].numpy())\n",
        "print(\"Second column:\", rank_2[:, 1].numpy())\n",
        "print(\"Last row:\", rank_2[-1, :].numpy())\n",
        "print(\"First item in last column:\", rank_2[0, -1].numpy())\n",
        "print(\"Skip the first row:\")\n",
        "print(rank_2[1:, :].numpy(), \"\\n\")"
      ],
      "metadata": {
        "colab": {
          "base_uri": "https://localhost:8080/"
        },
        "id": "UAJo3C8nVZzf",
        "outputId": "79c74930-16a7-403b-d80b-db5bf9a1aacb"
      },
      "execution_count": 11,
      "outputs": [
        {
          "output_type": "stream",
          "name": "stdout",
          "text": [
            "Second row: [3 4]\n",
            "Second column: [2 4 6]\n",
            "Last row: [5 6]\n",
            "First item in last column: 2\n",
            "Skip the first row:\n",
            "[[3 4]\n",
            " [5 6]] \n",
            "\n"
          ]
        }
      ]
    },
    {
      "cell_type": "markdown",
      "source": [
        "### **Tensor Operations**"
      ],
      "metadata": {
        "id": "C8J160R3pMI5"
      }
    },
    {
      "cell_type": "code",
      "source": [
        "# Transposing the tensor\n",
        "tf.transpose(rank_2)"
      ],
      "metadata": {
        "colab": {
          "base_uri": "https://localhost:8080/"
        },
        "id": "FqC7kTThqRs_",
        "outputId": "3d77b7ac-7e35-4412-fe83-1dbf7b6bbc90"
      },
      "execution_count": 12,
      "outputs": [
        {
          "output_type": "execute_result",
          "data": {
            "text/plain": [
              "<tf.Tensor: shape=(2, 3), dtype=int32, numpy=\n",
              "array([[1, 3, 5],\n",
              "       [2, 4, 6]], dtype=int32)>"
            ]
          },
          "metadata": {},
          "execution_count": 12
        }
      ]
    },
    {
      "cell_type": "code",
      "source": [
        "# Adding each element of tensor by a constant value\n",
        "rank_2 + 5"
      ],
      "metadata": {
        "colab": {
          "base_uri": "https://localhost:8080/"
        },
        "id": "J2QmPf-ipPNB",
        "outputId": "dfdf5356-83be-42d5-86f9-7ca7007855a8"
      },
      "execution_count": 13,
      "outputs": [
        {
          "output_type": "execute_result",
          "data": {
            "text/plain": [
              "<tf.Tensor: shape=(3, 2), dtype=int32, numpy=\n",
              "array([[ 6,  7],\n",
              "       [ 8,  9],\n",
              "       [10, 11]], dtype=int32)>"
            ]
          },
          "metadata": {},
          "execution_count": 13
        }
      ]
    },
    {
      "cell_type": "code",
      "source": [
        "# Multiplying each element of tensor by a constant value\n",
        "rank_2 * 5"
      ],
      "metadata": {
        "colab": {
          "base_uri": "https://localhost:8080/"
        },
        "id": "HKqW34skp91I",
        "outputId": "941dbd1b-1ee7-4158-fe59-4fd1b861cd36"
      },
      "execution_count": 14,
      "outputs": [
        {
          "output_type": "execute_result",
          "data": {
            "text/plain": [
              "<tf.Tensor: shape=(3, 2), dtype=int32, numpy=\n",
              "array([[ 5, 10],\n",
              "       [15, 20],\n",
              "       [25, 30]], dtype=int32)>"
            ]
          },
          "metadata": {},
          "execution_count": 14
        }
      ]
    },
    {
      "cell_type": "code",
      "source": [
        "# Squaring each element of the tensor\n",
        "tf.square(rank_2)"
      ],
      "metadata": {
        "colab": {
          "base_uri": "https://localhost:8080/"
        },
        "id": "VYsT5e6nqPXx",
        "outputId": "ee73fe34-36d2-4b25-a7f6-0c90956d589c"
      },
      "execution_count": 15,
      "outputs": [
        {
          "output_type": "execute_result",
          "data": {
            "text/plain": [
              "<tf.Tensor: shape=(3, 2), dtype=int32, numpy=\n",
              "array([[ 1,  4],\n",
              "       [ 9, 16],\n",
              "       [25, 36]], dtype=int32)>"
            ]
          },
          "metadata": {},
          "execution_count": 15
        }
      ]
    },
    {
      "cell_type": "code",
      "source": [
        "# New 2D tensor\n",
        "new_mat = tf.constant([[1,2],[3,4],[8,8]])\n",
        "# Adding 2 tensors\n",
        "sum=tf.add(rank_2,new_mat)\n",
        "print(sum)"
      ],
      "metadata": {
        "colab": {
          "base_uri": "https://localhost:8080/"
        },
        "id": "6rrtMTJ2qXTm",
        "outputId": "7acc2775-87f9-49fa-cd5e-d8a6cde49364"
      },
      "execution_count": 16,
      "outputs": [
        {
          "output_type": "stream",
          "name": "stdout",
          "text": [
            "tf.Tensor(\n",
            "[[ 2  4]\n",
            " [ 6  8]\n",
            " [13 14]], shape=(3, 2), dtype=int32)\n"
          ]
        }
      ]
    },
    {
      "cell_type": "code",
      "source": [
        "# Element wise multiplication of the tensors\n",
        "# Check for the dimensions of both the tensors before multiplying them\n",
        "product_1=rank_2 * new_mat\n",
        "\n",
        "print(product_1)"
      ],
      "metadata": {
        "colab": {
          "base_uri": "https://localhost:8080/"
        },
        "id": "4XPgV0LQMX92",
        "outputId": "20e75e2c-8125-4f98-9203-e61a064de1cc"
      },
      "execution_count": 17,
      "outputs": [
        {
          "output_type": "stream",
          "name": "stdout",
          "text": [
            "tf.Tensor(\n",
            "[[ 1  4]\n",
            " [ 9 16]\n",
            " [40 48]], shape=(3, 2), dtype=int32)\n"
          ]
        }
      ]
    },
    {
      "cell_type": "code",
      "source": [
        "# Multiplying two tensors using @\n",
        "# Check for the dimensions of both the tensors before multiplying them\n",
        "product_2=rank_2 @ tf.transpose(new_mat)\n",
        "\n",
        "print(product_2)"
      ],
      "metadata": {
        "colab": {
          "base_uri": "https://localhost:8080/"
        },
        "id": "sGIoOwmcqZFX",
        "outputId": "bc1eec86-6201-4abe-9bdd-ec71c2b68d44"
      },
      "execution_count": 18,
      "outputs": [
        {
          "output_type": "stream",
          "name": "stdout",
          "text": [
            "tf.Tensor(\n",
            "[[ 5 11 24]\n",
            " [11 25 56]\n",
            " [17 39 88]], shape=(3, 3), dtype=int32)\n"
          ]
        }
      ]
    },
    {
      "cell_type": "markdown",
      "source": [
        "### **Few more Tensors operations**"
      ],
      "metadata": {
        "id": "Cr_9ea0TQWac"
      }
    },
    {
      "cell_type": "code",
      "source": [
        "# Finding the largest value in the tensor\n",
        "print(tf.reduce_max(float_tensor))"
      ],
      "metadata": {
        "colab": {
          "base_uri": "https://localhost:8080/"
        },
        "id": "zr_ihi3gQapS",
        "outputId": "3e7b8981-5122-40a7-f42f-b2834ef98ca4"
      },
      "execution_count": 19,
      "outputs": [
        {
          "output_type": "stream",
          "name": "stdout",
          "text": [
            "tf.Tensor(4.0, shape=(), dtype=float32)\n"
          ]
        }
      ]
    },
    {
      "cell_type": "code",
      "source": [
        "# Finding the index of the largest value\n",
        "print(tf.math.argmax(float_tensor))"
      ],
      "metadata": {
        "colab": {
          "base_uri": "https://localhost:8080/"
        },
        "id": "5vdSvrDoSW1s",
        "outputId": "64f0abff-b8ce-4339-edc1-0575ef8c4eca"
      },
      "execution_count": 20,
      "outputs": [
        {
          "output_type": "stream",
          "name": "stdout",
          "text": [
            "tf.Tensor([1 1], shape=(2,), dtype=int64)\n"
          ]
        }
      ]
    },
    {
      "cell_type": "code",
      "source": [
        "# Softmax of the tensor values\n",
        "print(tf.nn.softmax(float_tensor))"
      ],
      "metadata": {
        "colab": {
          "base_uri": "https://localhost:8080/"
        },
        "id": "xbXxNnBASZeL",
        "outputId": "57a7fa60-74d4-4bba-afbe-5bd0163312e5"
      },
      "execution_count": 21,
      "outputs": [
        {
          "output_type": "stream",
          "name": "stdout",
          "text": [
            "tf.Tensor(\n",
            "[[0.26894143 0.7310586 ]\n",
            " [0.26894143 0.7310586 ]], shape=(2, 2), dtype=float32)\n"
          ]
        }
      ]
    },
    {
      "cell_type": "code",
      "source": [
        "print(\"Type of every element:\", rank_3.dtype)\n",
        "print(\"Number of axes:\", rank_3.ndim)\n",
        "print(\"Shape of tensor:\", rank_3.shape)\n",
        "print(\"Elements along axis 0 of tensor:\", rank_3.shape[0])\n",
        "print(\"Elements along the last axis of tensor:\", rank_3.shape[-1])\n",
        "print(\"Total number of elements (3*2*4*5): \", tf.size(rank_3).numpy())"
      ],
      "metadata": {
        "colab": {
          "base_uri": "https://localhost:8080/"
        },
        "id": "sUMSt1rkQx5z",
        "outputId": "8e45730e-22e8-4be6-9212-396c9d531da2"
      },
      "execution_count": 22,
      "outputs": [
        {
          "output_type": "stream",
          "name": "stdout",
          "text": [
            "Type of every element: <dtype: 'int32'>\n",
            "Number of axes: 3\n",
            "Shape of tensor: (2, 3, 4)\n",
            "Elements along axis 0 of tensor: 2\n",
            "Elements along the last axis of tensor: 4\n",
            "Total number of elements (3*2*4*5):  24\n"
          ]
        }
      ]
    },
    {
      "cell_type": "markdown",
      "source": [
        "### **String Tensor Operations**"
      ],
      "metadata": {
        "id": "q3YIAJFBg9Vo"
      }
    },
    {
      "cell_type": "code",
      "source": [
        "# You can use split to split a string into a set of tensors\n",
        "scalar_string_tensor = tf.constant(\"Gray wolf\")\n",
        "print(tf.strings.split(scalar_string_tensor, sep=\" \"))\n",
        "# In the printout the b prefix indicates that tf.string dtype is not a unicode string, but a byte-string."
      ],
      "metadata": {
        "colab": {
          "base_uri": "https://localhost:8080/"
        },
        "id": "PNrR6kdahBpK",
        "outputId": "db09704b-9b49-418f-9dd1-50d0ac174702"
      },
      "execution_count": 23,
      "outputs": [
        {
          "output_type": "stream",
          "name": "stdout",
          "text": [
            "tf.Tensor([b'Gray' b'wolf'], shape=(2,), dtype=string)\n"
          ]
        }
      ]
    },
    {
      "cell_type": "code",
      "source": [
        "# Although you can't use tf.cast to turn a string tensor into numbers, you can convert it into bytes, and then into numbers.\n",
        "text = tf.constant(\"1 10 100\")\n",
        "print(tf.strings.to_number(tf.strings.split(text, \" \")))"
      ],
      "metadata": {
        "colab": {
          "base_uri": "https://localhost:8080/"
        },
        "id": "Xaf0STtvhmoF",
        "outputId": "5f1917d0-158d-4b07-9ea5-134543055506"
      },
      "execution_count": 24,
      "outputs": [
        {
          "output_type": "stream",
          "name": "stdout",
          "text": [
            "tf.Tensor([  1.  10. 100.], shape=(3,), dtype=float32)\n"
          ]
        }
      ]
    },
    {
      "cell_type": "markdown",
      "source": [
        "### **Tensor Reshaping**"
      ],
      "metadata": {
        "id": "w_jEr5-XXhLB"
      }
    },
    {
      "cell_type": "code",
      "source": [
        "print(rank_3)\n",
        "print(\"rank_3 tensor current shape\",rank_3.shape)\n"
      ],
      "metadata": {
        "colab": {
          "base_uri": "https://localhost:8080/"
        },
        "id": "bGWjKr4FXlUI",
        "outputId": "5cca76b6-1c41-4dad-a971-4a634aacd759"
      },
      "execution_count": 25,
      "outputs": [
        {
          "output_type": "stream",
          "name": "stdout",
          "text": [
            "tf.Tensor(\n",
            "[[[ 1  2  3  4]\n",
            "  [ 5  6  7  8]\n",
            "  [ 9 10 11 12]]\n",
            "\n",
            " [[13 14 15 16]\n",
            "  [17 18 19 20]\n",
            "  [21 22 23 24]]], shape=(2, 3, 4), dtype=int32)\n",
            "rank_3 tensor current shape (2, 3, 4)\n"
          ]
        }
      ]
    },
    {
      "cell_type": "code",
      "source": [
        "#The data maintains its layout in memory and a new tensor is created, with the requested shape, pointing to the same data.\n",
        "#TensorFlow uses C-style \"row-major\" memory ordering, where incrementing the rightmost index corresponds to a single step in memory.\n",
        "\n",
        "# To visulaize the data in the tensor to see the order of the data points\n",
        "print(tf.reshape(rank_3, [-1]))"
      ],
      "metadata": {
        "colab": {
          "base_uri": "https://localhost:8080/"
        },
        "id": "AV4RoGpGZUtm",
        "outputId": "7e82b3fa-f8ff-494a-8582-f77da0a50029"
      },
      "execution_count": 26,
      "outputs": [
        {
          "output_type": "stream",
          "name": "stdout",
          "text": [
            "tf.Tensor([ 1  2  3  4  5  6  7  8  9 10 11 12 13 14 15 16 17 18 19 20 21 22 23 24], shape=(24,), dtype=int32)\n"
          ]
        }
      ]
    },
    {
      "cell_type": "code",
      "source": [
        "# Reshaping tensor\n",
        "reshaped = tf.reshape(rank_3, [4, 2, 3])\n",
        "print(reshaped)"
      ],
      "metadata": {
        "colab": {
          "base_uri": "https://localhost:8080/"
        },
        "id": "yPUjcU5RX0PW",
        "outputId": "da58505c-0548-44f6-8631-8d1a4d917de9"
      },
      "execution_count": 27,
      "outputs": [
        {
          "output_type": "stream",
          "name": "stdout",
          "text": [
            "tf.Tensor(\n",
            "[[[ 1  2  3]\n",
            "  [ 4  5  6]]\n",
            "\n",
            " [[ 7  8  9]\n",
            "  [10 11 12]]\n",
            "\n",
            " [[13 14 15]\n",
            "  [16 17 18]]\n",
            "\n",
            " [[19 20 21]\n",
            "  [22 23 24]]], shape=(4, 2, 3), dtype=int32)\n"
          ]
        }
      ]
    },
    {
      "cell_type": "code",
      "source": [
        "print(\"Previous Shape\",rank_3.shape)\n",
        "print(\"After reshape\",reshaped.shape)"
      ],
      "metadata": {
        "colab": {
          "base_uri": "https://localhost:8080/"
        },
        "id": "SAvSKZKIYckD",
        "outputId": "d8444c57-459c-4e69-a1fc-96dc9bc08ef2"
      },
      "execution_count": 28,
      "outputs": [
        {
          "output_type": "stream",
          "name": "stdout",
          "text": [
            "Previous Shape (2, 3, 4)\n",
            "After reshape (4, 2, 3)\n"
          ]
        }
      ]
    },
    {
      "cell_type": "markdown",
      "metadata": {
        "id": "05bBVBVYV0y6"
      },
      "source": [
        "### **Ragged Tensors**\n"
      ]
    },
    {
      "cell_type": "code",
      "execution_count": 29,
      "metadata": {
        "id": "VsbTjoFfNVBF"
      },
      "outputs": [],
      "source": [
        "# A tensor with variable numbers of elements along some axis is called \"ragged\".\n",
        "ragged_list = [\n",
        "    [0, 1, 2, 3],\n",
        "    [4, 5],\n",
        "    [6, 7, 8],\n",
        "    [9]]"
      ]
    },
    {
      "cell_type": "code",
      "execution_count": 30,
      "metadata": {
        "id": "p4xKTo57tutG",
        "outputId": "385e1cae-b806-4a66-bc16-61ccabbedb27",
        "colab": {
          "base_uri": "https://localhost:8080/"
        }
      },
      "outputs": [
        {
          "output_type": "stream",
          "name": "stdout",
          "text": [
            "ValueError: Can't convert non-rectangular Python sequence to Tensor.\n"
          ]
        }
      ],
      "source": [
        "try:\n",
        "  tensor = tf.constant(ragged_list)\n",
        "except Exception as e:\n",
        "  print(f\"{type(e).__name__}: {e}\")"
      ]
    },
    {
      "cell_type": "code",
      "execution_count": 31,
      "metadata": {
        "id": "XhF3QV3jiqTj",
        "outputId": "4634634a-01c7-4ad2-aaca-239f059d128c",
        "colab": {
          "base_uri": "https://localhost:8080/"
        }
      },
      "outputs": [
        {
          "output_type": "stream",
          "name": "stdout",
          "text": [
            "<tf.RaggedTensor [[0, 1, 2, 3], [4, 5], [6, 7, 8], [9]]>\n"
          ]
        }
      ],
      "source": [
        "# Instead create a `tf.RaggedTensor` using `tf.ragged.constant`:\n",
        "ragged_tensor = tf.ragged.constant(ragged_list)\n",
        "print(ragged_tensor)"
      ]
    },
    {
      "cell_type": "code",
      "execution_count": 32,
      "metadata": {
        "id": "Eo_3wJUWNgqB",
        "outputId": "af0e35a5-1305-463d-c65a-d4f2e1dd7134",
        "colab": {
          "base_uri": "https://localhost:8080/"
        }
      },
      "outputs": [
        {
          "output_type": "stream",
          "name": "stdout",
          "text": [
            "(4, None)\n"
          ]
        }
      ],
      "source": [
        "# The shape of a `tf.RaggedTensor` will contain some axes with unknown lengths:\n",
        "print(ragged_tensor.shape)"
      ]
    },
    {
      "cell_type": "markdown",
      "source": [
        "### **Image Tensor Representation**"
      ],
      "metadata": {
        "id": "K2EdrAgXj7YI"
      }
    },
    {
      "cell_type": "code",
      "source": [
        "# Load the data\n",
        "from tensorflow.keras.datasets import fashion_mnist\n",
        "(X_train_full, y_train_full), (X_test_full, y_test_full) = fashion_mnist.load_data()\n"
      ],
      "metadata": {
        "colab": {
          "base_uri": "https://localhost:8080/"
        },
        "id": "s93_6FAnkAv3",
        "outputId": "8f1403a4-ece3-4fe2-8aff-ff3de0cfd494"
      },
      "execution_count": 33,
      "outputs": [
        {
          "output_type": "stream",
          "name": "stdout",
          "text": [
            "Downloading data from https://storage.googleapis.com/tensorflow/tf-keras-datasets/train-labels-idx1-ubyte.gz\n",
            "29515/29515 [==============================] - 0s 0us/step\n",
            "Downloading data from https://storage.googleapis.com/tensorflow/tf-keras-datasets/train-images-idx3-ubyte.gz\n",
            "26421880/26421880 [==============================] - 0s 0us/step\n",
            "Downloading data from https://storage.googleapis.com/tensorflow/tf-keras-datasets/t10k-labels-idx1-ubyte.gz\n",
            "5148/5148 [==============================] - 0s 0us/step\n",
            "Downloading data from https://storage.googleapis.com/tensorflow/tf-keras-datasets/t10k-images-idx3-ubyte.gz\n",
            "4422102/4422102 [==============================] - 0s 0us/step\n"
          ]
        }
      ]
    },
    {
      "cell_type": "code",
      "source": [
        "#Let us see the first image in the training data\n",
        "plt.matshow(X_train_full[0])\n"
      ],
      "metadata": {
        "colab": {
          "base_uri": "https://localhost:8080/",
          "height": 455
        },
        "id": "CqPJUqlombMx",
        "outputId": "4a24a584-b498-46ff-8f5c-2598cc062ac9"
      },
      "execution_count": 34,
      "outputs": [
        {
          "output_type": "execute_result",
          "data": {
            "text/plain": [
              "<matplotlib.image.AxesImage at 0x7841e6036ce0>"
            ]
          },
          "metadata": {},
          "execution_count": 34
        },
        {
          "output_type": "display_data",
          "data": {
            "text/plain": [
              "<Figure size 480x480 with 1 Axes>"
            ],
            "image/png": "[encoded data removed]"
          },
          "metadata": {}
        }
      ]
    },
    {
      "cell_type": "code",
      "source": [
        "# the data of the image is in array format\n",
        "X_train_full[0].shape"
      ],
      "metadata": {
        "colab": {
          "base_uri": "https://localhost:8080/"
        },
        "id": "aqzNxCmqlSAZ",
        "outputId": "e484da22-808b-4644-afb4-56149210dd7f"
      },
      "execution_count": 35,
      "outputs": [
        {
          "output_type": "execute_result",
          "data": {
            "text/plain": [
              "(28, 28)"
            ]
          },
          "metadata": {},
          "execution_count": 35
        }
      ]
    },
    {
      "cell_type": "code",
      "source": [
        "# Coverting the array to Tensorflow\n",
        "new_tf_mnist = tf.convert_to_tensor(X_train_full[0])\n",
        "new_tf_mnist.shape"
      ],
      "metadata": {
        "colab": {
          "base_uri": "https://localhost:8080/"
        },
        "id": "IxfmKpt2lx03",
        "outputId": "dd550511-de61-4a33-9301-d31c3d42d865"
      },
      "execution_count": 36,
      "outputs": [
        {
          "output_type": "execute_result",
          "data": {
            "text/plain": [
              "TensorShape([28, 28])"
            ]
          },
          "metadata": {},
          "execution_count": 36
        }
      ]
    }
  ]
}